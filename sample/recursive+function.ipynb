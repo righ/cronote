{
 "cells": [
  {
   "cell_type": "code",
   "execution_count": 1,
   "metadata": {
    "collapsed": true
   },
   "outputs": [],
   "source": [
    "def a():\n",
    "    a()"
   ]
  },
  {
   "cell_type": "code",
   "execution_count": 2,
   "metadata": {
    "collapsed": false
   },
   "outputs": [
    {
     "ename": "RecursionError",
     "evalue": "maximum recursion depth exceeded",
     "output_type": "error",
     "traceback": [
      "\u001b[0;31m---------------------------------------------------------------------------\u001b[0m",
      "\u001b[0;31mRecursionError\u001b[0m                            Traceback (most recent call last)",
      "\u001b[0;32m<ipython-input-2-72f2e37b262f>\u001b[0m in \u001b[0;36m<module>\u001b[0;34m()\u001b[0m\n\u001b[0;32m----> 1\u001b[0;31m \u001b[0ma\u001b[0m\u001b[0;34m(\u001b[0m\u001b[0;34m)\u001b[0m\u001b[0;34m\u001b[0m\u001b[0m\n\u001b[0m",
      "\u001b[0;32m<ipython-input-1-33e155485728>\u001b[0m in \u001b[0;36ma\u001b[0;34m()\u001b[0m\n\u001b[1;32m      1\u001b[0m \u001b[0;32mdef\u001b[0m \u001b[0ma\u001b[0m\u001b[0;34m(\u001b[0m\u001b[0;34m)\u001b[0m\u001b[0;34m:\u001b[0m\u001b[0;34m\u001b[0m\u001b[0m\n\u001b[0;32m----> 2\u001b[0;31m     \u001b[0ma\u001b[0m\u001b[0;34m(\u001b[0m\u001b[0;34m)\u001b[0m\u001b[0;34m\u001b[0m\u001b[0m\n\u001b[0m",
      "... last 1 frames repeated, from the frame below ...\n",
      "\u001b[0;32m<ipython-input-1-33e155485728>\u001b[0m in \u001b[0;36ma\u001b[0;34m()\u001b[0m\n\u001b[1;32m      1\u001b[0m \u001b[0;32mdef\u001b[0m \u001b[0ma\u001b[0m\u001b[0;34m(\u001b[0m\u001b[0;34m)\u001b[0m\u001b[0;34m:\u001b[0m\u001b[0;34m\u001b[0m\u001b[0m\n\u001b[0;32m----> 2\u001b[0;31m     \u001b[0ma\u001b[0m\u001b[0;34m(\u001b[0m\u001b[0;34m)\u001b[0m\u001b[0;34m\u001b[0m\u001b[0m\n\u001b[0m",
      "\u001b[0;31mRecursionError\u001b[0m: maximum recursion depth exceeded"
     ]
    }
   ],
   "source": [
    "a()"
   ]
  },
  {
   "cell_type": "code",
   "execution_count": 3,
   "metadata": {
    "collapsed": true
   },
   "outputs": [],
   "source": [
    "def fact1(n):\n",
    "    if n <= 1:\n",
    "        return 1\n",
    "    return n * fact1(n - 1)"
   ]
  },
  {
   "cell_type": "code",
   "execution_count": 5,
   "metadata": {
    "collapsed": false
   },
   "outputs": [
    {
     "data": {
      "text/plain": [
       "120"
      ]
     },
     "execution_count": 5,
     "metadata": {},
     "output_type": "execute_result"
    }
   ],
   "source": [
    "fact1(5)"
   ]
  },
  {
   "cell_type": "code",
   "execution_count": 6,
   "metadata": {
    "collapsed": false
   },
   "outputs": [
    {
     "data": {
      "text/plain": [
       "120"
      ]
     },
     "execution_count": 6,
     "metadata": {},
     "output_type": "execute_result"
    }
   ],
   "source": [
    "5 * 4 * 3 * 2 * 1"
   ]
  },
  {
   "cell_type": "code",
   "execution_count": null,
   "metadata": {
    "collapsed": true
   },
   "outputs": [],
   "source": [
    "\"\"\"\n",
    "ユークリッドの互除法\n",
    "- 2つの数値を入力すると最大公約数が得られる関数gcdを作成しましょう\n",
    "- 第一引数aには大きい数値、第二引数bには小さい数値を入力します\n",
    "\"\"\""
   ]
  },
  {
   "cell_type": "code",
   "execution_count": 9,
   "metadata": {
    "collapsed": true
   },
   "outputs": [],
   "source": [
    "# ループバージョン\n",
    "def gcd(a, b):\n",
    "    while True:\n",
    "        r = a % b\n",
    "        if not r:\n",
    "            break\n",
    "        a, b = b, r\n",
    "    return b"
   ]
  },
  {
   "cell_type": "code",
   "execution_count": 10,
   "metadata": {
    "collapsed": false
   },
   "outputs": [
    {
     "data": {
      "text/plain": [
       "21"
      ]
     },
     "execution_count": 10,
     "metadata": {},
     "output_type": "execute_result"
    }
   ],
   "source": [
    "gcd(1071, 1029)"
   ]
  },
  {
   "cell_type": "code",
   "execution_count": 11,
   "metadata": {
    "collapsed": true
   },
   "outputs": [],
   "source": [
    "# 再帰バージョン\n",
    "def gcd(a, b):\n",
    "    r = a % b\n",
    "    if not r:\n",
    "        return b\n",
    "    return gcd(b, r)"
   ]
  },
  {
   "cell_type": "code",
   "execution_count": 12,
   "metadata": {
    "collapsed": false
   },
   "outputs": [
    {
     "data": {
      "text/plain": [
       "21"
      ]
     },
     "execution_count": 12,
     "metadata": {},
     "output_type": "execute_result"
    }
   ],
   "source": [
    "gcd(1071, 1029)"
   ]
  },
  {
   "cell_type": "code",
   "execution_count": null,
   "metadata": {
    "collapsed": true
   },
   "outputs": [],
   "source": [
    "\"\"\"\n",
    "経路を求める問題\n",
    "- AからYまでの最短ルートと最長ルートを求めてください\n",
    "　　- 線の交わる点、計25点をポイントと呼びA~Yまで名前がつけられています\n",
    "  - それぞれのポイントは一度しか通れません\n",
    "  - 線の上に書かれた数値はその経路を通るためのコストです\n",
    "  - コストの合計が最も小さいものを最短ルート、最も大きいものを最長ルートとします\n",
    "  - 問題のイメージは https://twitter.com/crohaco/status/839432202400100354 を参照してください\n",
    "\n",
    "- 経路の情報を扱いやすいようにデータ化するところも自分で考えてみてください\n",
    "\"\"\""
   ]
  },
  {
   "cell_type": "code",
   "execution_count": 1,
   "metadata": {
    "collapsed": true
   },
   "outputs": [],
   "source": [
    "# 整形した経路情報\n",
    "\n",
    "\n",
    "\n",
    "\n",
    "\n",
    "\n",
    "\n",
    "\n",
    "\n",
    "\n",
    "\n",
    "\n",
    "\n",
    "\n",
    "\n",
    "\n",
    "\n",
    "\n",
    "\n",
    "\n",
    "\n",
    "\n",
    "\n",
    "\n",
    "\n",
    "\n",
    "\n",
    "\n",
    "\n",
    "routes = {\n",
    "    ('a', 'b'): 3,\n",
    "    ('b', 'c'): 4,\n",
    "    ('c', 'd'): 10,\n",
    "    ('d', 'e'): 7,\n",
    "    ('a', 'f'): 4,\n",
    "    ('b', 'g'): 6,\n",
    "    ('c', 'h'): 8,\n",
    "    ('d', 'i'): 4,\n",
    "    ('e', 'j'): 10,\n",
    "    ('f', 'g'): 10,\n",
    "    ('g', 'h'): 3,\n",
    "    ('h', 'i'): 9,\n",
    "    ('i', 'j'): 1,\n",
    "    ('f', 'k'): 4,\n",
    "    ('g', 'l'): 3,\n",
    "    ('h', 'm'): 8,\n",
    "    ('i', 'n'): 6,\n",
    "    ('j', 'o'): 9,\n",
    "    ('k', 'l'): 8,\n",
    "    ('l', 'm'): 4,\n",
    "    ('m', 'n'): 7,\n",
    "    ('n', 'o'): 2,\n",
    "    ('k', 'p'): 3,\n",
    "    ('l', 'q'): 9,\n",
    "    ('m', 'r'): 2,\n",
    "    ('n', 's'): 6,\n",
    "    ('o', 't'): 6,\n",
    "    ('p', 'q'): 6,\n",
    "    ('q', 'r'): 6,\n",
    "    ('r', 's'): 4,\n",
    "    ('s', 't'): 10,\n",
    "    ('p', 'u'): 3,\n",
    "    ('q', 'v'): 5,\n",
    "    ('r', 'w'): 1,\n",
    "    ('s', 'x'): 10,\n",
    "    ('t', 'y'): 1,\n",
    "    ('u', 'v'): 3,\n",
    "    ('v', 'w'): 5,\n",
    "    ('w', 'x'): 6,\n",
    "    ('x', 'y'): 4,\n",
    "}\n",
    "\n",
    "for k, v in dict(routes).items():\n",
    "    routes[(k[1], k[0])] = v"
   ]
  },
  {
   "cell_type": "code",
   "execution_count": 2,
   "metadata": {
    "collapsed": true
   },
   "outputs": [],
   "source": [
    "# 回答例(あまり効率的ではないけど)\n",
    "\n",
    "from functools import reduce\n",
    "from operator import add\n",
    "\n",
    "def search(start, end):\n",
    "    results = {}\n",
    "    # 経路からポイントを抽出\n",
    "    points = set(reduce(add, routes.keys()))\n",
    "    def _search(path, cost):\n",
    "        \"\"\"\n",
    "        :param Tuple[str] path: 今まで通った経路\n",
    "        :param int cost: 使ったコスト\n",
    "        \"\"\"\n",
    "        # 現在地をcurrentに\n",
    "        current = path[-1]\n",
    "        if current == end:\n",
    "            results[path] = cost\n",
    "            return\n",
    "        # 次に進むべきポイントをpointsから求める\n",
    "        for point in points:\n",
    "            # (現在地, 次のポイント)があり得ない組み合わせではない(routesに含まれる)、かつ、既に通った経路ではない\n",
    "            if (current, point) in routes and point not in path:\n",
    "                # 次のポイントと次のポイントへのコストを加え、再帰呼出し\n",
    "                _search(path + (point,), cost + routes[(current, point)])\n",
    "\n",
    "    _search((start,), 0)\n",
    "    return results"
   ]
  },
  {
   "cell_type": "code",
   "execution_count": 3,
   "metadata": {
    "collapsed": false
   },
   "outputs": [
    {
     "name": "stdout",
     "output_type": "stream",
     "text": [
      "len: 8512\n",
      "min: (29, ('a', 'b', 'g', 'l', 'm', 'r', 'w', 'x', 'y'))\n",
      "max: (156, ('a', 'b', 'g', 'f', 'k', 'l', 'q', 'p', 'u', 'v', 'w', 'r', 'm', 'n', 'i', 'h', 'c', 'd', 'e', 'j', 'o', 't', 's', 'x', 'y'))\n"
     ]
    }
   ],
   "source": [
    "if __name__ == '__main__':\n",
    "    results = search('a', 'y')\n",
    "    print('len:', len(results))\n",
    "    print('min:', min((v, k) for k, v in results.items()))\n",
    "    print('max:', max((v, k) for k, v in results.items()))"
   ]
  },
  {
   "cell_type": "code",
   "execution_count": 26,
   "metadata": {
    "collapsed": true
   },
   "outputs": [],
   "source": [
    "t = (1, 2)"
   ]
  },
  {
   "cell_type": "code",
   "execution_count": 27,
   "metadata": {
    "collapsed": false
   },
   "outputs": [
    {
     "data": {
      "text/plain": [
       "139736360993032"
      ]
     },
     "execution_count": 27,
     "metadata": {},
     "output_type": "execute_result"
    }
   ],
   "source": [
    "id(t)"
   ]
  },
  {
   "cell_type": "code",
   "execution_count": 28,
   "metadata": {
    "collapsed": true
   },
   "outputs": [],
   "source": [
    "t += (3,)"
   ]
  },
  {
   "cell_type": "code",
   "execution_count": 29,
   "metadata": {
    "collapsed": false
   },
   "outputs": [
    {
     "data": {
      "text/plain": [
       "139736301395904"
      ]
     },
     "execution_count": 29,
     "metadata": {},
     "output_type": "execute_result"
    }
   ],
   "source": [
    "id(t)"
   ]
  },
  {
   "cell_type": "code",
   "execution_count": 30,
   "metadata": {
    "collapsed": false
   },
   "outputs": [
    {
     "data": {
      "text/plain": [
       "(1, 2, 3)"
      ]
     },
     "execution_count": 30,
     "metadata": {},
     "output_type": "execute_result"
    }
   ],
   "source": [
    "t"
   ]
  },
  {
   "cell_type": "code",
   "execution_count": 4,
   "metadata": {
    "collapsed": false
   },
   "outputs": [
    {
     "ename": "TypeError",
     "evalue": "unhashable type: 'list'",
     "output_type": "error",
     "traceback": [
      "\u001b[0;31m---------------------------------------------------------------------------\u001b[0m",
      "\u001b[0;31mTypeError\u001b[0m                                 Traceback (most recent call last)",
      "\u001b[0;32m<ipython-input-4-64fa39879729>\u001b[0m in \u001b[0;36m<module>\u001b[0;34m()\u001b[0m\n\u001b[1;32m      1\u001b[0m \u001b[0;31m# リストはキーにできないけど\u001b[0m\u001b[0;34m\u001b[0m\u001b[0;34m\u001b[0m\u001b[0m\n\u001b[0;32m----> 2\u001b[0;31m \u001b[0;34m{\u001b[0m\u001b[0;34m[\u001b[0m\u001b[0;36m1\u001b[0m\u001b[0;34m,\u001b[0m \u001b[0;36m2\u001b[0m\u001b[0;34m]\u001b[0m\u001b[0;34m:\u001b[0m \u001b[0;36m3\u001b[0m\u001b[0;34m}\u001b[0m\u001b[0;34m\u001b[0m\u001b[0m\n\u001b[0m",
      "\u001b[0;31mTypeError\u001b[0m: unhashable type: 'list'"
     ]
    }
   ],
   "source": [
    "# リストはキーにできないけど\n",
    "{[1, 2]: 3}"
   ]
  },
  {
   "cell_type": "code",
   "execution_count": 5,
   "metadata": {
    "collapsed": false
   },
   "outputs": [
    {
     "data": {
      "text/plain": [
       "{(1, 2): 3}"
      ]
     },
     "execution_count": 5,
     "metadata": {},
     "output_type": "execute_result"
    }
   ],
   "source": [
    "# タプルはキーにできる(上記のように経路や座標をキーに何らかの値を保存しておくなどの使い方ができる)\n",
    "{(1, 2): 3}"
   ]
  },
  {
   "cell_type": "code",
   "execution_count": null,
   "metadata": {
    "collapsed": true
   },
   "outputs": [],
   "source": []
  }
 ],
 "metadata": {
  "kernelspec": {
   "display_name": "Python 3",
   "language": "python",
   "name": "python3"
  },
  "language_info": {
   "codemirror_mode": {
    "name": "ipython",
    "version": 3
   },
   "file_extension": ".py",
   "mimetype": "text/x-python",
   "name": "python",
   "nbconvert_exporter": "python",
   "pygments_lexer": "ipython3",
   "version": "3.5.2"
  }
 },
 "nbformat": 4,
 "nbformat_minor": 1
}
