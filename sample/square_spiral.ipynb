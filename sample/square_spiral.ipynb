{
 "cells": [
  {
   "cell_type": "code",
   "execution_count": 1,
   "metadata": {
    "collapsed": false
   },
   "outputs": [
    {
     "data": {
      "text/plain": [
       "'要件\\n* x=0, y=0 を中心として四角の螺旋を描くための座標をひとつずつ返却するジェネレータを作成する\\n* 螺旋は反時計回りに回転する\\n* 最初は原点からどちらの方向に移動しても良い\\n* sendメソッドで座標を開始座標を指定できる\\n* 座標は必ず整数値を取る\\n'"
      ]
     },
     "execution_count": 1,
     "metadata": {},
     "output_type": "execute_result"
    }
   ],
   "source": [
    "\"\"\"要件\n",
    "* x=0, y=0 を中心として四角の螺旋を描くための座標をひとつずつ返却するジェネレータを作成する\n",
    "* 螺旋は反時計回りに回転する\n",
    "* 最初は原点からどちらの方向に移動しても良い\n",
    "* sendメソッドで座標を開始座標を指定できる\n",
    "* 座標は必ず整数値を取る\n",
    "\"\"\""
   ]
  },
  {
   "cell_type": "code",
   "execution_count": 2,
   "metadata": {
    "collapsed": true
   },
   "outputs": [],
   "source": [
    "# プロットするためにmatplotlibを使う\n",
    "import matplotlib.pyplot as plt\n",
    "%matplotlib inline"
   ]
  },
  {
   "cell_type": "code",
   "execution_count": 3,
   "metadata": {
    "collapsed": false
   },
   "outputs": [
    {
     "data": {
      "text/plain": [
       "'案1: 象限毎に移動方向を変える\\n* if文が多すぎてダサい\\n'"
      ]
     },
     "execution_count": 3,
     "metadata": {},
     "output_type": "execute_result"
    }
   ],
   "source": [
    "\"\"\"案1: 象限毎に移動方向を変える\n",
    "* if文が多すぎてダサい\n",
    "\"\"\""
   ]
  },
  {
   "cell_type": "code",
   "execution_count": 4,
   "metadata": {
    "collapsed": true
   },
   "outputs": [],
   "source": [
    "def q1(x, y):\n",
    "    \"\"\"第一象限の回転ルール\n",
    "    * 1. xの絶対値がyの絶対値より大きい時、xと同じになるまでyをインクリメントする\n",
    "    * 2. xとyの絶対値が同じになったらxのデクリメントに転じる\n",
    "    \"\"\"\n",
    "    if abs(x) > abs(y):\n",
    "        y += 1\n",
    "    else:\n",
    "        x -= 1\n",
    "    return x, y"
   ]
  },
  {
   "cell_type": "code",
   "execution_count": 5,
   "metadata": {
    "collapsed": true
   },
   "outputs": [],
   "source": [
    "def q2(x, y):\n",
    "    \"\"\"第二象限の回転ルール\n",
    "    * 3. xの絶対値がyの絶対値より小さい時、yと同じになるまでxをデクリメントする\n",
    "    * 4. xとyの絶対値が同じになったらyのデクリメントに転じる\n",
    "    \"\"\"\n",
    "    if abs(x) < abs(y):\n",
    "        x -= 1\n",
    "    else:\n",
    "        y -= 1\n",
    "\n",
    "    return x, y"
   ]
  },
  {
   "cell_type": "code",
   "execution_count": 6,
   "metadata": {
    "collapsed": true
   },
   "outputs": [],
   "source": [
    "def q3(x, y):\n",
    "    \"\"\"第三象限の回転ルール\n",
    "    * 5. xの絶対値がyの絶対値より大きい時、yと同じになるまでyをデクリメントする\n",
    "    * 6. xとyの絶対値が同じになったらxのインクリメントに転じる\n",
    "    \"\"\"\n",
    "    if abs(x) > abs(y):\n",
    "        y -= 1\n",
    "    else:\n",
    "        x += 1\n",
    "    return x, y"
   ]
  },
  {
   "cell_type": "code",
   "execution_count": 7,
   "metadata": {
    "collapsed": true
   },
   "outputs": [],
   "source": [
    "def q4(x, y):\n",
    "    \"\"\"第三象限の回転ルール\n",
    "    * 7. xの絶対値がyの絶対値+1より小さい時、y+1と同じになるまでxをインクリメントする\n",
    "    * 8. xとyの絶対値が同じになったらyのインクリメントに転じる\n",
    "    \"\"\"\n",
    "    if abs(x) < abs(y) + 1:\n",
    "        x += 1\n",
    "    else:\n",
    "        y += 1\n",
    "    return x, y"
   ]
  },
  {
   "cell_type": "code",
   "execution_count": 8,
   "metadata": {
    "collapsed": true
   },
   "outputs": [],
   "source": [
    "def spiral(x=0, y=0):\n",
    "    while True:\n",
    "        received = yield x, y\n",
    "        if received:\n",
    "            # sendで座標を受け取った場合は次の座標から再開する\n",
    "            x, y = received\n",
    "        \n",
    "        if x >= 0 and y > 0:\n",
    "            x, y = q1(x, y)\n",
    "        elif x < 0 and y >= 0:\n",
    "            x, y = q2(x, y)\n",
    "        elif x <= 0 and y < 0:\n",
    "            x, y = q3(x, y)\n",
    "        else:\n",
    "            x, y = q4(x, y)"
   ]
  },
  {
   "cell_type": "code",
   "execution_count": 9,
   "metadata": {
    "collapsed": false
   },
   "outputs": [],
   "source": [
    "g = spiral(0, 0)"
   ]
  },
  {
   "cell_type": "code",
   "execution_count": 10,
   "metadata": {
    "collapsed": false
   },
   "outputs": [],
   "source": [
    "# next(g)"
   ]
  },
  {
   "cell_type": "code",
   "execution_count": 11,
   "metadata": {
    "collapsed": false,
    "scrolled": false
   },
   "outputs": [
    {
     "data": {
      "image/png": "[encoded data removed]",
      "text/plain": [
       "<matplotlib.figure.Figure at 0x7f11c22eeeb8>"
      ]
     },
     "metadata": {},
     "output_type": "display_data"
    }
   ],
   "source": [
    "# g.send((0, 0))\n",
    "xs = []\n",
    "ys = []\n",
    "for i in range(1000):\n",
    "    x, y = next(g)\n",
    "    xs.append(x)\n",
    "    ys.append(y)\n",
    "\n",
    "plt.plot(xs, ys, linestyle=\"-\")\n",
    "plt.grid()\n",
    "plt.show()"
   ]
  },
  {
   "cell_type": "code",
   "execution_count": 12,
   "metadata": {
    "collapsed": false
   },
   "outputs": [
    {
     "data": {
      "text/plain": [
       "'案2: 特定の座標に達した時に方向転換するルールを決めておく\\n* 初期値は固定される\\n* sendメソッドで始点を指定できない\\n* (0,0)をプロットできない\\n'"
      ]
     },
     "execution_count": 12,
     "metadata": {},
     "output_type": "execute_result"
    }
   ],
   "source": [
    "\"\"\"案2: 特定の座標に達した時に方向転換するルールを決めておく\n",
    "* 初期値は固定される\n",
    "* sendメソッドで始点を指定できない\n",
    "* (0,0)をプロットできない\n",
    "\"\"\""
   ]
  },
  {
   "cell_type": "code",
   "execution_count": 13,
   "metadata": {
    "collapsed": false
   },
   "outputs": [],
   "source": [
    "# 向きを変える条件だけを変数に隔離\n",
    "vectors = {\n",
    "    # (x>=0, y>=0, xの絶対値-yの絶対値): (xの増加分, yの増加分),\n",
    "    (True, True, 0): (-1, 0),\n",
    "    (False, True, 0): (0, -1),\n",
    "    (False, False, 0): (1, 0),\n",
    "    (True, False, 1): (0, 1),\n",
    "}"
   ]
  },
  {
   "cell_type": "code",
   "execution_count": 14,
   "metadata": {
    "collapsed": true
   },
   "outputs": [],
   "source": [
    "def spiral2():\n",
    "    vector = (0, 1)\n",
    "    x = 1\n",
    "    y = 0\n",
    "    while True:\n",
    "        vector = vectors.get((x>=0, y>=0, abs(x)-abs(y)), vector)\n",
    "        x += vector[0]\n",
    "        y += vector[1]\n",
    "        yield (x, y)"
   ]
  },
  {
   "cell_type": "code",
   "execution_count": 15,
   "metadata": {
    "collapsed": true
   },
   "outputs": [],
   "source": [
    "g = spiral2()"
   ]
  },
  {
   "cell_type": "code",
   "execution_count": 16,
   "metadata": {
    "collapsed": false
   },
   "outputs": [
    {
     "data": {
      "image/png": "[encoded data removed]",
      "text/plain": [
       "<matplotlib.figure.Figure at 0x7f11c2154550>"
      ]
     },
     "metadata": {},
     "output_type": "display_data"
    }
   ],
   "source": [
    "xs = []\n",
    "ys = []\n",
    "for i in range(1000):\n",
    "    x, y = next(g)\n",
    "    xs.append(x)\n",
    "    ys.append(y)\n",
    "\n",
    "plt.plot(xs, ys, linestyle=\"-\")\n",
    "plt.grid()\n",
    "plt.show()"
   ]
  },
  {
   "cell_type": "code",
   "execution_count": 23,
   "metadata": {
    "collapsed": false
   },
   "outputs": [
    {
     "data": {
      "text/plain": [
       "'案3: 円の傾きからX,Y成分を抽出し、移動ルールとして利用する\\n* atan2関数が(0, 0)の場合に0を返却するため最初の移動方向が(0, 1)となる # (-sin(0), cos(0))\\n  * そのため第一象限で座標の四角の拡大が行われる\\n* 結局座標の判定と細々した判定でif文が必要になるため効率化されていない\\n'"
      ]
     },
     "execution_count": 23,
     "metadata": {},
     "output_type": "execute_result"
    }
   ],
   "source": [
    "\"\"\"案3: 円の傾きからX,Y成分を抽出し、移動ルールとして利用する\n",
    "* atan2関数が(0, 0)の場合に0を返却するため最初の移動方向が(0, 1)となる # (-sin(0), cos(0))\n",
    "  * そのため第一象限で座標の四角の拡大が行われる\n",
    "* 結局座標の判定と細々した判定でif文が必要になるため効率化されていない\n",
    "\"\"\""
   ]
  },
  {
   "cell_type": "code",
   "execution_count": 18,
   "metadata": {
    "collapsed": false
   },
   "outputs": [],
   "source": [
    "import math\n",
    "from collections import namedtuple\n",
    "point = namedtuple('Point', ['x', 'y'])\n",
    "\n",
    "# 原点とする座標を象限毎に定義したものを定義\n",
    "origins = {\n",
    "    # (x>=0, y>=0, xの絶対値-yの絶対値): 原点の座標\n",
    "    (True, True): point(0, 1),\n",
    "    (False, True): point(0, 0),\n",
    "    (False, False): point(0, 0),\n",
    "    (True, False): point(0, 0),\n",
    "}\n",
    "\n",
    "# pi / 4, pi / 8\n",
    "pi4 = math.pi / 4\n",
    "pi8 = pi4 / 2\n",
    "sqrt2 = math.sqrt(2)"
   ]
  },
  {
   "cell_type": "code",
   "execution_count": 19,
   "metadata": {
    "collapsed": true
   },
   "outputs": [],
   "source": [
    "def spiral3(x=0, y=0):\n",
    "    while True:\n",
    "        received = yield x, y\n",
    "        if received:\n",
    "            x, y = received\n",
    "        origin = origins[(x>=0, y>=0)]\n",
    "        # rad = math.atan2(y-origin.y, x-origin.x)\n",
    "        rad = math.atan2(y-origin.y if x and y else y, x-origin.x if x and y else x)\n",
    "        if rad % pi4 == 0:\n",
    "            # (角を四角くするため)位置ベクトルと軸のなす角がπ/4のときはπ/8反時計回りに倒す\n",
    "            rad += pi8\n",
    "        \n",
    "        # 1/√2で割った成分を座標にプラスする\n",
    "        x += int(-math.sin(rad) * sqrt2)  # cos' = -sin\n",
    "        y += int(math.cos(rad) * sqrt2)  # sin' = cos"
   ]
  },
  {
   "cell_type": "code",
   "execution_count": 20,
   "metadata": {
    "collapsed": false
   },
   "outputs": [],
   "source": [
    "g = spiral3()"
   ]
  },
  {
   "cell_type": "code",
   "execution_count": 21,
   "metadata": {
    "collapsed": false
   },
   "outputs": [],
   "source": [
    "# next(g)"
   ]
  },
  {
   "cell_type": "code",
   "execution_count": 22,
   "metadata": {
    "collapsed": false
   },
   "outputs": [
    {
     "data": {
      "image/png": "[encoded data removed]",
      "text/plain": [
       "<matplotlib.figure.Figure at 0x7f11c2280470>"
      ]
     },
     "metadata": {},
     "output_type": "display_data"
    }
   ],
   "source": [
    "# g.send((0, 0))\n",
    "xs = []\n",
    "ys = []\n",
    "for i in range(1000):\n",
    "    x, y = next(g)\n",
    "    xs.append(x)\n",
    "    ys.append(y)\n",
    "\n",
    "plt.plot(xs, ys, linestyle=\"-\")\n",
    "plt.grid()\n",
    "plt.show()"
   ]
  },
  {
   "cell_type": "code",
   "execution_count": null,
   "metadata": {
    "collapsed": true
   },
   "outputs": [],
   "source": []
  }
 ],
 "metadata": {
  "kernelspec": {
   "display_name": "Python 3",
   "language": "python",
   "name": "python3"
  },
  "language_info": {
   "codemirror_mode": {
    "name": "ipython",
    "version": 3
   },
   "file_extension": ".py",
   "mimetype": "text/x-python",
   "name": "python",
   "nbconvert_exporter": "python",
   "pygments_lexer": "ipython3",
   "version": "3.4.3"
  }
 },
 "nbformat": 4,
 "nbformat_minor": 0
}
